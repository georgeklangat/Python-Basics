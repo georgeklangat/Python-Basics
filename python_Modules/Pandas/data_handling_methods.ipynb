{
 "cells": [
  {
   "cell_type": "code",
   "id": "initial_id",
   "metadata": {
    "collapsed": true,
    "ExecuteTime": {
     "end_time": "2025-01-12T17:49:25.928008Z",
     "start_time": "2025-01-12T17:49:25.919175Z"
    }
   },
   "source": [
    "import pandas as pd\n",
    "\n",
    "# Sample dataset with missing values\n",
    "data = {\n",
    "    'Name': ['Alice', 'Bob', 'Charlie', 'David', None],\n",
    "    'Age': [25, None, 30, 35, 40],\n",
    "    'Score': [85, 90, None, 95, 88]\n",
    "}\n",
    "df = pd.DataFrame(data)\n",
    "print(df)"
   ],
   "outputs": [
    {
     "name": "stdout",
     "output_type": "stream",
     "text": [
      "      Name   Age  Score\n",
      "0    Alice  25.0   85.0\n",
      "1      Bob   NaN   90.0\n",
      "2  Charlie  30.0    NaN\n",
      "3    David  35.0   95.0\n",
      "4     None  40.0   88.0\n"
     ]
    }
   ],
   "execution_count": 2
  },
  {
   "metadata": {},
   "cell_type": "markdown",
   "source": "##### 1. isnull() - Check for missing values",
   "id": "d1e92595abe0027a"
  },
  {
   "metadata": {
    "ExecuteTime": {
     "end_time": "2025-01-12T17:58:50.160760Z",
     "start_time": "2025-01-12T17:58:50.153833Z"
    }
   },
   "cell_type": "code",
   "source": "print(df.isnull())",
   "id": "fa1c31a9c290e3e",
   "outputs": [
    {
     "name": "stdout",
     "output_type": "stream",
     "text": [
      "checking for missing values using isnull():\n",
      "    Name    Age  Score\n",
      "0  False  False  False\n",
      "1  False   True  False\n",
      "2  False  False   True\n",
      "3  False  False  False\n",
      "4   True  False  False\n"
     ]
    }
   ],
   "execution_count": 5
  },
  {
   "metadata": {},
   "cell_type": "markdown",
   "source": "##### 2. notnull() check for non-missing values",
   "id": "9e4bad792c0f3743"
  },
  {
   "metadata": {
    "ExecuteTime": {
     "end_time": "2025-01-12T17:59:03.080884Z",
     "start_time": "2025-01-12T17:59:03.070953Z"
    }
   },
   "cell_type": "code",
   "source": "print(df.notnull())",
   "id": "c3282627ddf8d84e",
   "outputs": [
    {
     "name": "stdout",
     "output_type": "stream",
     "text": [
      "Checking for non-missing values using notnull():\n",
      "    Name    Age  Score\n",
      "0   True   True   True\n",
      "1   True  False   True\n",
      "2   True   True  False\n",
      "3   True   True   True\n",
      "4  False   True   True\n"
     ]
    }
   ],
   "execution_count": 7
  },
  {
   "metadata": {},
   "cell_type": "markdown",
   "source": "##### 3. dropna() - drop rows with missing values",
   "id": "24ec68e76abbe080"
  },
  {
   "metadata": {
    "ExecuteTime": {
     "end_time": "2025-01-12T18:01:04.553566Z",
     "start_time": "2025-01-12T18:01:04.530684Z"
    }
   },
   "cell_type": "code",
   "source": "print(df.dropna())",
   "id": "6ffa324e456b11a8",
   "outputs": [
    {
     "name": "stdout",
     "output_type": "stream",
     "text": [
      "Dropping rows with missing values using dropna():\n",
      "    Name   Age  Score\n",
      "0  Alice  25.0   85.0\n",
      "3  David  35.0   95.0\n"
     ]
    }
   ],
   "execution_count": 8
  },
  {
   "metadata": {},
   "cell_type": "markdown",
   "source": "##### 4. fillna() -fill missing values with a specified value",
   "id": "dea3c4d97ea0bc0a"
  },
  {
   "metadata": {
    "ExecuteTime": {
     "end_time": "2025-01-12T18:03:43.608814Z",
     "start_time": "2025-01-12T18:03:43.595845Z"
    }
   },
   "cell_type": "code",
   "source": "print(df.fillna({'Age': 28, 'Score': 80}))\n",
   "id": "aa3efbcfb661d81",
   "outputs": [
    {
     "name": "stdout",
     "output_type": "stream",
     "text": [
      "Filling missing values with a specified value using fillna():\n",
      "      Name   Age  Score\n",
      "0    Alice  25.0   85.0\n",
      "1      Bob  28.0   90.0\n",
      "2  Charlie  30.0   80.0\n",
      "3    David  35.0   95.0\n",
      "4     None  40.0   88.0\n"
     ]
    }
   ],
   "execution_count": 9
  },
  {
   "metadata": {},
   "cell_type": "markdown",
   "source": "##### 5. replace() - Replace specified value with another value",
   "id": "aeba5f479c5e120f"
  },
  {
   "metadata": {
    "ExecuteTime": {
     "end_time": "2025-01-12T18:34:38.929889Z",
     "start_time": "2025-01-12T18:34:38.899501Z"
    }
   },
   "cell_type": "code",
   "source": [
    "print(df.replace({'Name': {None: 'Unknown'}}))\n",
    "print('\\n')\n",
    "print(df.replace({'Age':{'Bob': 'George'}}))"
   ],
   "id": "f4647f86c38b5b99",
   "outputs": [
    {
     "name": "stdout",
     "output_type": "stream",
     "text": [
      "      Name   Age  Score\n",
      "0    Alice  25.0   85.0\n",
      "1      Bob   NaN   90.0\n",
      "2  Charlie  30.0    NaN\n",
      "3    David  35.0   95.0\n",
      "4  Unknown  40.0   88.0\n",
      "\n",
      "\n",
      "      Name   Age  Score\n",
      "0    Alice  25.0   85.0\n",
      "1      Bob   NaN   90.0\n",
      "2  Charlie  30.0    NaN\n",
      "3    David  35.0   95.0\n",
      "4     None  40.0   88.0\n",
      "      Name   Age  Score\n",
      "0    Alice  25.0   85.0\n",
      "1      Bob  50.0   90.0\n",
      "2  Charlie  30.0   80.0\n",
      "3    David  35.0   95.0\n",
      "4     None  40.0   88.0\n"
     ]
    }
   ],
   "execution_count": 19
  },
  {
   "metadata": {},
   "cell_type": "code",
   "outputs": [],
   "execution_count": null,
   "source": "",
   "id": "5eea195e5321f0d8"
  }
 ],
 "metadata": {
  "kernelspec": {
   "display_name": "Python 3",
   "language": "python",
   "name": "python3"
  },
  "language_info": {
   "codemirror_mode": {
    "name": "ipython",
    "version": 2
   },
   "file_extension": ".py",
   "mimetype": "text/x-python",
   "name": "python",
   "nbconvert_exporter": "python",
   "pygments_lexer": "ipython2",
   "version": "2.7.6"
  }
 },
 "nbformat": 4,
 "nbformat_minor": 5
}
