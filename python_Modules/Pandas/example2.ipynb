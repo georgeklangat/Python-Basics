{
 "cells": [
  {
   "cell_type": "code",
   "id": "initial_id",
   "metadata": {
    "collapsed": true,
    "ExecuteTime": {
     "end_time": "2025-01-12T17:11:48.015945Z",
     "start_time": "2025-01-12T17:11:47.416864Z"
    }
   },
   "source": [
    "import pandas as pd\n",
    "\n",
    "data = {\n",
    "    'Name' : ['Alice','George','Tyrone','festus'],\n",
    "    'Score': [56,67,89,89]\n",
    "}\n",
    "\n",
    "df = pd.DataFrame(data)\n",
    "print(df)"
   ],
   "outputs": [
    {
     "name": "stdout",
     "output_type": "stream",
     "text": [
      "     Name  Score\n",
      "0   Alice     56\n",
      "1  George     67\n",
      "2  Tyrone     89\n",
      "3  festus     89\n"
     ]
    }
   ],
   "execution_count": 2
  },
  {
   "metadata": {},
   "cell_type": "markdown",
   "source": "##### Calculate the mean score",
   "id": "e1b7434d24b24364"
  },
  {
   "metadata": {
    "ExecuteTime": {
     "end_time": "2025-01-12T17:16:03.172578Z",
     "start_time": "2025-01-12T17:16:03.167385Z"
    }
   },
   "cell_type": "code",
   "source": [
    "mean_score = df['Score'].mean()\n",
    "print(f'Mean score: {mean_score}')"
   ],
   "id": "6a54cd649086fcae",
   "outputs": [
    {
     "name": "stdout",
     "output_type": "stream",
     "text": [
      "Mean score: 75.25\n"
     ]
    }
   ],
   "execution_count": 3
  },
  {
   "metadata": {},
   "cell_type": "markdown",
   "source": "##### filter the student with score > 80",
   "id": "31ffabfa285501b0"
  },
  {
   "metadata": {
    "ExecuteTime": {
     "end_time": "2025-01-12T17:42:38.901417Z",
     "start_time": "2025-01-12T17:42:38.891425Z"
    }
   },
   "cell_type": "code",
   "source": [
    "highest_scores = df[df['Score']>80]\n",
    "print(f'{highest_scores}')"
   ],
   "id": "aaa9c0a20c94fea9",
   "outputs": [
    {
     "name": "stdout",
     "output_type": "stream",
     "text": [
      "     Name  Score  Passed\n",
      "2  Tyrone     89    True\n",
      "3  festus     89    True\n"
     ]
    }
   ],
   "execution_count": 12
  },
  {
   "metadata": {
    "ExecuteTime": {
     "end_time": "2025-01-12T17:34:40.186320Z",
     "start_time": "2025-01-12T17:34:40.178620Z"
    }
   },
   "cell_type": "code",
   "source": [
    "df['Passed'] = df['Score']>=80\n",
    "print(f'Updated DataFrame: {df}')"
   ],
   "id": "83220347ea141b5d",
   "outputs": [
    {
     "name": "stdout",
     "output_type": "stream",
     "text": [
      "Updated DataFrame:      Name  Score  Passed\n",
      "0   Alice     56   False\n",
      "1  George     67   False\n",
      "2  Tyrone     89    True\n",
      "3  festus     89    True\n"
     ]
    }
   ],
   "execution_count": 8
  },
  {
   "metadata": {},
   "cell_type": "code",
   "outputs": [],
   "execution_count": null,
   "source": "",
   "id": "f00ca0baa30cc02e"
  }
 ],
 "metadata": {
  "kernelspec": {
   "display_name": "Python 3",
   "language": "python",
   "name": "python3"
  },
  "language_info": {
   "codemirror_mode": {
    "name": "ipython",
    "version": 2
   },
   "file_extension": ".py",
   "mimetype": "text/x-python",
   "name": "python",
   "nbconvert_exporter": "python",
   "pygments_lexer": "ipython2",
   "version": "2.7.6"
  }
 },
 "nbformat": 4,
 "nbformat_minor": 5
}
