{
 "cells": [
  {
   "cell_type": "code",
   "id": "initial_id",
   "metadata": {
    "collapsed": true,
    "ExecuteTime": {
     "end_time": "2025-01-13T08:57:04.515387Z",
     "start_time": "2025-01-13T08:57:00.034947Z"
    }
   },
   "source": [
    "import numpy as np\n",
    "from sklearn.linear_model import LinearRegression\n",
    "\n",
    "\n",
    "years = np.array([2017, 2018, 2019, 2020, 2021, 2022, 2023]).reshape(-1, 1)\n",
    "rainfall = np.array([800, 1200, 1500, 1400, 1000, 1100, 1600])  # Average rainfall in mm\n",
    "yield_data = np.array([1300, 1850, 1550, 1650, 1900, 1950, 1450])  # Yellow beans yield in kgs/acre\n",
    "\n",
    "# Convert data to numpy arrays for linear regression\n",
    "rainfall = rainfall.reshape(-1, 1)\n",
    "yield_data = yield_data.reshape(-1, 1)\n",
    "\n",
    "# Create a linear regression model\n",
    "model = LinearRegression()\n",
    "\n",
    "# Fit the model to the data\n",
    "model.fit(rainfall, yield_data)\n",
    "\n",
    "predicted_yield_2024 = model.predict(np.array([[900]]))  # 900 mm of rainfall in 2024\n",
    "\n",
    "# Output the prediction\n",
    "print(f\"Predicted Yellow Beans Yield for 2024: {predicted_yield_2024[0][0]:.2f} kgs/acre\")\n",
    "\n"
   ],
   "outputs": [
    {
     "name": "stdout",
     "output_type": "stream",
     "text": [
      "Predicted Yellow Beans Yield for 2024: 1699.42 kgs/acre\n"
     ]
    }
   ],
   "execution_count": 1
  },
  {
   "metadata": {},
   "cell_type": "code",
   "outputs": [],
   "execution_count": null,
   "source": "",
   "id": "f9567ef7acb1a5fd"
  }
 ],
 "metadata": {
  "kernelspec": {
   "display_name": "Python 3",
   "language": "python",
   "name": "python3"
  },
  "language_info": {
   "codemirror_mode": {
    "name": "ipython",
    "version": 2
   },
   "file_extension": ".py",
   "mimetype": "text/x-python",
   "name": "python",
   "nbconvert_exporter": "python",
   "pygments_lexer": "ipython2",
   "version": "2.7.6"
  }
 },
 "nbformat": 4,
 "nbformat_minor": 5
}
