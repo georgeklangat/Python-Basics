{
 "cells": [
  {
   "cell_type": "code",
   "id": "initial_id",
   "metadata": {
    "collapsed": true,
    "ExecuteTime": {
     "end_time": "2025-01-12T19:25:26.805657Z",
     "start_time": "2025-01-12T19:25:26.793599Z"
    }
   },
   "source": [
    "import numpy as np\n",
    "\n",
    "week_1 = np.array([1, 2, 3, 4, 5])\n",
    "week_2 = np.array([6, 7, 8, 9, 10])\n",
    "\n",
    "# Average temperature for each week\n",
    "avg_wk1 = np.mean(week_1)\n",
    "avg_wk2 = np.mean(week_2)\n",
    "print(f\"Average for week 1: {avg_wk1}\\nAverage for week 2: {avg_wk2}\")"
   ],
   "outputs": [
    {
     "name": "stdout",
     "output_type": "stream",
     "text": [
      "Average for week 1: 3.0\n",
      "Average for week 2: 8.0\n"
     ]
    }
   ],
   "execution_count": 4
  },
  {
   "metadata": {},
   "cell_type": "code",
   "outputs": [],
   "execution_count": null,
   "source": "",
   "id": "de81599022a05e80"
  }
 ],
 "metadata": {
  "kernelspec": {
   "display_name": "Python 3",
   "language": "python",
   "name": "python3"
  },
  "language_info": {
   "codemirror_mode": {
    "name": "ipython",
    "version": 2
   },
   "file_extension": ".py",
   "mimetype": "text/x-python",
   "name": "python",
   "nbconvert_exporter": "python",
   "pygments_lexer": "ipython2",
   "version": "2.7.6"
  }
 },
 "nbformat": 4,
 "nbformat_minor": 5
}
